{
 "cells": [
  {
   "cell_type": "code",
   "execution_count": 1,
   "id": "ca658a410f8ed506",
   "metadata": {},
   "outputs": [
    {
     "name": "stdout",
     "output_type": "stream",
     "text": [
      "README.md           config.py           requirements.txt    \u001b[34mtests\u001b[m\u001b[m/\n",
      "\u001b[34m__pycache__\u001b[m\u001b[m/        docker-compose.yml  test.ipynb          \u001b[34mvenv\u001b[m\u001b[m/\n",
      "\u001b[34mapp\u001b[m\u001b[m/                main.py             testing.py\n"
     ]
    }
   ],
   "source": [
    "ls"
   ]
  },
  {
   "cell_type": "code",
   "execution_count": 2,
   "id": "initial_id",
   "metadata": {
    "collapsed": true,
    "jupyter": {
     "is_executing": true
    }
   },
   "outputs": [],
   "source": [
    "import uuid\n",
    "from app.models.book import create_book_json_schema, Book\n",
    "from app.databases.mongodb import MongoDB"
   ]
  },
  {
   "cell_type": "code",
   "execution_count": 3,
   "id": "e4c1c1a26fa84472",
   "metadata": {
    "ExecuteTime": {
     "end_time": "2024-09-09T06:05:11.608805Z",
     "start_time": "2024-09-09T06:05:11.598188Z"
    }
   },
   "outputs": [],
   "source": [
    "## connect db\n",
    "_db = MongoDB(connection_url='mongodb://localhost:27017')\n"
   ]
  },
  {
   "cell_type": "code",
   "execution_count": 4,
   "id": "54660a45bd18cf2f",
   "metadata": {
    "ExecuteTime": {
     "end_time": "2024-09-09T06:05:27.232998Z",
     "start_time": "2024-09-09T06:05:27.230085Z"
    }
   },
   "outputs": [],
   "source": [
    "## Create book\n",
    "body = {'publisher':'dsai'}\n",
    "book_id =\"d35d220f-fe55-478c-aa0a-2efeb4dc8176\"\n",
    "book = Book(book_id).from_dict(body)\n",
    "book.owner = 'ahihi'\n",
    "\n"
   ]
  },
  {
   "cell_type": "code",
   "execution_count": 6,
   "id": "b417a159",
   "metadata": {},
   "outputs": [
    {
     "data": {
      "text/plain": [
       "{'_id': 'd35d220f-fe55-478c-aa0a-2efeb4dc8176',\n",
       " 'title': '',\n",
       " 'authors': [],\n",
       " 'publisher': 'dsai',\n",
       " 'description': None,\n",
       " 'owner': 'ahihi',\n",
       " 'createdAt': 1725898229,\n",
       " 'lastUpdatedAt': 1725898229}"
      ]
     },
     "execution_count": 6,
     "metadata": {},
     "output_type": "execute_result"
    }
   ],
   "source": [
    "book.to_dict()"
   ]
  },
  {
   "cell_type": "code",
   "execution_count": 7,
   "id": "a7c35dfc85f824c7",
   "metadata": {},
   "outputs": [
    {
     "name": "stderr",
     "output_type": "stream",
     "text": [
      "[09-09-2024 23:11:11 +07] [ERROR] [MongoDB] - E11000 duplicate key error collection: trainingDB.books index: _id_ dup key: { _id: \"d35d220f-fe55-478c-aa0a-2efeb4dc8176\" }, full error: {'index': 0, 'code': 11000, 'errmsg': 'E11000 duplicate key error collection: trainingDB.books index: _id_ dup key: { _id: \"d35d220f-fe55-478c-aa0a-2efeb4dc8176\" }', 'keyPattern': {'_id': 1}, 'keyValue': {'_id': 'd35d220f-fe55-478c-aa0a-2efeb4dc8176'}}\n",
      "Traceback (most recent call last):\n",
      "  File \"/Users/buitra210/Documents/Work/TrainingAPI/3.Backend/TrainingAPI/app/databases/mongodb.py\", line 39, in add_book\n",
      "    inserted_doc = self._books_col.insert_one(book.to_dict())\n",
      "                   ^^^^^^^^^^^^^^^^^^^^^^^^^^^^^^^^^^^^^^^^^^\n",
      "  File \"/Users/buitra210/Documents/Work/TrainingAPI/3.Backend/TrainingAPI/venv/lib/python3.12/site-packages/pymongo/collection.py\", line 698, in insert_one\n",
      "    self._insert(document,\n",
      "  File \"/Users/buitra210/Documents/Work/TrainingAPI/3.Backend/TrainingAPI/venv/lib/python3.12/site-packages/pymongo/collection.py\", line 613, in _insert\n",
      "    return self._insert_one(\n",
      "           ^^^^^^^^^^^^^^^^^\n",
      "  File \"/Users/buitra210/Documents/Work/TrainingAPI/3.Backend/TrainingAPI/venv/lib/python3.12/site-packages/pymongo/collection.py\", line 602, in _insert_one\n",
      "    self.__database.client._retryable_write(\n",
      "  File \"/Users/buitra210/Documents/Work/TrainingAPI/3.Backend/TrainingAPI/venv/lib/python3.12/site-packages/pymongo/mongo_client.py\", line 1498, in _retryable_write\n",
      "    return self._retry_with_session(retryable, func, s, None)\n",
      "           ^^^^^^^^^^^^^^^^^^^^^^^^^^^^^^^^^^^^^^^^^^^^^^^^^^\n",
      "  File \"/Users/buitra210/Documents/Work/TrainingAPI/3.Backend/TrainingAPI/venv/lib/python3.12/site-packages/pymongo/mongo_client.py\", line 1384, in _retry_with_session\n",
      "    return self._retry_internal(retryable, func, session, bulk)\n",
      "           ^^^^^^^^^^^^^^^^^^^^^^^^^^^^^^^^^^^^^^^^^^^^^^^^^^^^\n",
      "  File \"/Users/buitra210/Documents/Work/TrainingAPI/3.Backend/TrainingAPI/venv/lib/python3.12/site-packages/pymongo/mongo_client.py\", line 1416, in _retry_internal\n",
      "    return func(session, sock_info, retryable)\n",
      "           ^^^^^^^^^^^^^^^^^^^^^^^^^^^^^^^^^^^\n",
      "  File \"/Users/buitra210/Documents/Work/TrainingAPI/3.Backend/TrainingAPI/venv/lib/python3.12/site-packages/pymongo/collection.py\", line 600, in _insert_command\n",
      "    _check_write_command_response(result)\n",
      "  File \"/Users/buitra210/Documents/Work/TrainingAPI/3.Backend/TrainingAPI/venv/lib/python3.12/site-packages/pymongo/helpers.py\", line 226, in _check_write_command_response\n",
      "    _raise_last_write_error(write_errors)\n",
      "  File \"/Users/buitra210/Documents/Work/TrainingAPI/3.Backend/TrainingAPI/venv/lib/python3.12/site-packages/pymongo/helpers.py\", line 207, in _raise_last_write_error\n",
      "    raise DuplicateKeyError(error.get(\"errmsg\"), 11000, error)\n",
      "pymongo.errors.DuplicateKeyError: E11000 duplicate key error collection: trainingDB.books index: _id_ dup key: { _id: \"d35d220f-fe55-478c-aa0a-2efeb4dc8176\" }, full error: {'index': 0, 'code': 11000, 'errmsg': 'E11000 duplicate key error collection: trainingDB.books index: _id_ dup key: { _id: \"d35d220f-fe55-478c-aa0a-2efeb4dc8176\" }', 'keyPattern': {'_id': 1}, 'keyValue': {'_id': 'd35d220f-fe55-478c-aa0a-2efeb4dc8176'}}\n"
     ]
    }
   ],
   "source": [
    "## Add book\n",
    "inserted = _db.add_book(book)"
   ]
  },
  {
   "cell_type": "code",
   "execution_count": 8,
   "id": "e2e89bef8d10917e",
   "metadata": {
    "ExecuteTime": {
     "end_time": "2024-09-09T06:05:29.431460Z",
     "start_time": "2024-09-09T06:05:29.425578Z"
    }
   },
   "outputs": [
    {
     "data": {
      "text/plain": [
       "False"
      ]
     },
     "execution_count": 8,
     "metadata": {},
     "output_type": "execute_result"
    }
   ],
   "source": [
    "update_result = _db.update_book(book_id, body)\n",
    "update_result"
   ]
  },
  {
   "cell_type": "code",
   "execution_count": null,
   "id": "eb0f700e89e67e0f",
   "metadata": {},
   "outputs": [],
   "source": []
  },
  {
   "cell_type": "code",
   "execution_count": null,
   "id": "847bc6c9c22229a1",
   "metadata": {},
   "outputs": [],
   "source": []
  },
  {
   "cell_type": "code",
   "execution_count": null,
   "id": "e765099a79406099",
   "metadata": {},
   "outputs": [],
   "source": []
  }
 ],
 "metadata": {
  "kernelspec": {
   "display_name": "Python 3",
   "language": "python",
   "name": "python3"
  },
  "language_info": {
   "codemirror_mode": {
    "name": "ipython",
    "version": 3
   },
   "file_extension": ".py",
   "mimetype": "text/x-python",
   "name": "python",
   "nbconvert_exporter": "python",
   "pygments_lexer": "ipython3",
   "version": "3.12.5"
  }
 },
 "nbformat": 4,
 "nbformat_minor": 5
}
