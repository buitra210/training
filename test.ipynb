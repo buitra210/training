{
 "cells": [
  {
   "cell_type": "code",
   "id": "initial_id",
   "metadata": {
    "collapsed": true,
    "ExecuteTime": {
     "end_time": "2024-09-09T06:05:10.458162Z",
     "start_time": "2024-09-09T06:05:10.312690Z"
    }
   },
   "source": [
    "import uuid\n",
    "from app.models.book import create_book_json_schema, Book\n",
    "from app.databases.mongodb import MongoDB"
   ],
   "outputs": [],
   "execution_count": 1
  },
  {
   "metadata": {
    "ExecuteTime": {
     "end_time": "2024-09-09T06:05:11.608805Z",
     "start_time": "2024-09-09T06:05:11.598188Z"
    }
   },
   "cell_type": "code",
   "source": [
    "## connect db\n",
    "_db = MongoDB(connection_url='mongodb://localhost:27017')\n"
   ],
   "id": "e4c1c1a26fa84472",
   "outputs": [],
   "execution_count": 2
  },
  {
   "metadata": {
    "ExecuteTime": {
     "end_time": "2024-09-09T06:05:27.232998Z",
     "start_time": "2024-09-09T06:05:27.230085Z"
    }
   },
   "cell_type": "code",
   "source": [
    "## Create book\n",
    "body = {'publisher':'dsai'}\n",
    "book_id =\"d35d220f-fe55-478c-aa0a-2efeb4dc8176\"\n",
    "book = Book(book_id).from_dict(body)\n",
    "book.owner = 'ahihi'\n"
   ],
   "id": "54660a45bd18cf2f",
   "outputs": [],
   "execution_count": 5
  },
  {
   "metadata": {},
   "cell_type": "code",
   "outputs": [],
   "execution_count": null,
   "source": [
    "## Add book\n",
    "inserted = _db.add_book(book)"
   ],
   "id": "a7c35dfc85f824c7"
  },
  {
   "metadata": {
    "ExecuteTime": {
     "end_time": "2024-09-09T06:05:29.431460Z",
     "start_time": "2024-09-09T06:05:29.425578Z"
    }
   },
   "cell_type": "code",
   "source": [
    "update_result = _db.update_book(book_id, body)\n",
    "update_result"
   ],
   "id": "e2e89bef8d10917e",
   "outputs": [
    {
     "data": {
      "text/plain": [
       "True"
      ]
     },
     "execution_count": 6,
     "metadata": {},
     "output_type": "execute_result"
    }
   ],
   "execution_count": 6
  },
  {
   "metadata": {},
   "cell_type": "code",
   "outputs": [],
   "execution_count": null,
   "source": "",
   "id": "eb0f700e89e67e0f"
  },
  {
   "metadata": {},
   "cell_type": "code",
   "outputs": [],
   "execution_count": null,
   "source": "",
   "id": "847bc6c9c22229a1"
  },
  {
   "metadata": {},
   "cell_type": "code",
   "outputs": [],
   "execution_count": null,
   "source": "",
   "id": "e765099a79406099"
  }
 ],
 "metadata": {
  "kernelspec": {
   "display_name": "Python 3",
   "language": "python",
   "name": "python3"
  },
  "language_info": {
   "codemirror_mode": {
    "name": "ipython",
    "version": 2
   },
   "file_extension": ".py",
   "mimetype": "text/x-python",
   "name": "python",
   "nbconvert_exporter": "python",
   "pygments_lexer": "ipython2",
   "version": "2.7.6"
  }
 },
 "nbformat": 4,
 "nbformat_minor": 5
}
